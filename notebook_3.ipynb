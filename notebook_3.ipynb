{
  "nbformat": 4,
  "nbformat_minor": 0,
  "metadata": {
    "colab": {
      "provenance": []
    },
    "kernelspec": {
      "name": "python3",
      "display_name": "Python 3"
    },
    "language_info": {
      "name": "python"
    }
  },
  "cells": [
    {
      "cell_type": "code",
      "source": [
        "!pip install torcheval"
      ],
      "metadata": {
        "id": "HPfehU39oNkH",
        "colab": {
          "base_uri": "https://localhost:8080/"
        },
        "outputId": "8386f597-cd25-41aa-d8ae-0079fd70346f"
      },
      "execution_count": 1,
      "outputs": [
        {
          "output_type": "stream",
          "name": "stdout",
          "text": [
            "Collecting torcheval\n",
            "  Downloading torcheval-0.0.6-py3-none-any.whl (158 kB)\n",
            "\u001b[?25l     \u001b[90m━━━━━━━━━━━━━━━━━━━━━━━━━━━━━━━━━━━━━━━━\u001b[0m \u001b[32m0.0/158.4 kB\u001b[0m \u001b[31m?\u001b[0m eta \u001b[36m-:--:--\u001b[0m\r\u001b[2K     \u001b[90m━━━━━━━━━━━━━━━━━━━━━━━━━━━━━━━━━━━━━━━\u001b[0m \u001b[32m158.4/158.4 kB\u001b[0m \u001b[31m8.9 MB/s\u001b[0m eta \u001b[36m0:00:00\u001b[0m\n",
            "\u001b[?25hCollecting torchtnt>=0.0.5 (from torcheval)\n",
            "  Downloading torchtnt-0.1.0-py3-none-any.whl (87 kB)\n",
            "\u001b[?25l     \u001b[90m━━━━━━━━━━━━━━━━━━━━━━━━━━━━━━━━━━━━━━━━\u001b[0m \u001b[32m0.0/87.9 kB\u001b[0m \u001b[31m?\u001b[0m eta \u001b[36m-:--:--\u001b[0m\r\u001b[2K     \u001b[90m━━━━━━━━━━━━━━━━━━━━━━━━━━━━━━━━━━━━━━━━\u001b[0m \u001b[32m87.9/87.9 kB\u001b[0m \u001b[31m11.0 MB/s\u001b[0m eta \u001b[36m0:00:00\u001b[0m\n",
            "\u001b[?25hRequirement already satisfied: typing-extensions in /usr/local/lib/python3.10/dist-packages (from torcheval) (4.6.3)\n",
            "Requirement already satisfied: torch in /usr/local/lib/python3.10/dist-packages (from torchtnt>=0.0.5->torcheval) (2.0.1+cu118)\n",
            "Requirement already satisfied: numpy in /usr/local/lib/python3.10/dist-packages (from torchtnt>=0.0.5->torcheval) (1.22.4)\n",
            "Requirement already satisfied: fsspec in /usr/local/lib/python3.10/dist-packages (from torchtnt>=0.0.5->torcheval) (2023.6.0)\n",
            "Requirement already satisfied: tensorboard in /usr/local/lib/python3.10/dist-packages (from torchtnt>=0.0.5->torcheval) (2.12.3)\n",
            "Requirement already satisfied: packaging in /usr/local/lib/python3.10/dist-packages (from torchtnt>=0.0.5->torcheval) (23.1)\n",
            "Requirement already satisfied: psutil in /usr/local/lib/python3.10/dist-packages (from torchtnt>=0.0.5->torcheval) (5.9.5)\n",
            "Collecting pyre-extensions (from torchtnt>=0.0.5->torcheval)\n",
            "  Downloading pyre_extensions-0.0.30-py3-none-any.whl (12 kB)\n",
            "Requirement already satisfied: setuptools in /usr/local/lib/python3.10/dist-packages (from torchtnt>=0.0.5->torcheval) (67.7.2)\n",
            "Requirement already satisfied: tqdm in /usr/local/lib/python3.10/dist-packages (from torchtnt>=0.0.5->torcheval) (4.65.0)\n",
            "Collecting typing-inspect (from pyre-extensions->torchtnt>=0.0.5->torcheval)\n",
            "  Downloading typing_inspect-0.9.0-py3-none-any.whl (8.8 kB)\n",
            "Requirement already satisfied: absl-py>=0.4 in /usr/local/lib/python3.10/dist-packages (from tensorboard->torchtnt>=0.0.5->torcheval) (1.4.0)\n",
            "Requirement already satisfied: grpcio>=1.48.2 in /usr/local/lib/python3.10/dist-packages (from tensorboard->torchtnt>=0.0.5->torcheval) (1.56.0)\n",
            "Requirement already satisfied: google-auth<3,>=1.6.3 in /usr/local/lib/python3.10/dist-packages (from tensorboard->torchtnt>=0.0.5->torcheval) (2.17.3)\n",
            "Requirement already satisfied: google-auth-oauthlib<1.1,>=0.5 in /usr/local/lib/python3.10/dist-packages (from tensorboard->torchtnt>=0.0.5->torcheval) (1.0.0)\n",
            "Requirement already satisfied: markdown>=2.6.8 in /usr/local/lib/python3.10/dist-packages (from tensorboard->torchtnt>=0.0.5->torcheval) (3.4.3)\n",
            "Requirement already satisfied: protobuf>=3.19.6 in /usr/local/lib/python3.10/dist-packages (from tensorboard->torchtnt>=0.0.5->torcheval) (3.20.3)\n",
            "Requirement already satisfied: requests<3,>=2.21.0 in /usr/local/lib/python3.10/dist-packages (from tensorboard->torchtnt>=0.0.5->torcheval) (2.27.1)\n",
            "Requirement already satisfied: tensorboard-data-server<0.8.0,>=0.7.0 in /usr/local/lib/python3.10/dist-packages (from tensorboard->torchtnt>=0.0.5->torcheval) (0.7.1)\n",
            "Requirement already satisfied: werkzeug>=1.0.1 in /usr/local/lib/python3.10/dist-packages (from tensorboard->torchtnt>=0.0.5->torcheval) (2.3.6)\n",
            "Requirement already satisfied: wheel>=0.26 in /usr/local/lib/python3.10/dist-packages (from tensorboard->torchtnt>=0.0.5->torcheval) (0.40.0)\n",
            "Requirement already satisfied: filelock in /usr/local/lib/python3.10/dist-packages (from torch->torchtnt>=0.0.5->torcheval) (3.12.2)\n",
            "Requirement already satisfied: sympy in /usr/local/lib/python3.10/dist-packages (from torch->torchtnt>=0.0.5->torcheval) (1.11.1)\n",
            "Requirement already satisfied: networkx in /usr/local/lib/python3.10/dist-packages (from torch->torchtnt>=0.0.5->torcheval) (3.1)\n",
            "Requirement already satisfied: jinja2 in /usr/local/lib/python3.10/dist-packages (from torch->torchtnt>=0.0.5->torcheval) (3.1.2)\n",
            "Requirement already satisfied: triton==2.0.0 in /usr/local/lib/python3.10/dist-packages (from torch->torchtnt>=0.0.5->torcheval) (2.0.0)\n",
            "Requirement already satisfied: cmake in /usr/local/lib/python3.10/dist-packages (from triton==2.0.0->torch->torchtnt>=0.0.5->torcheval) (3.25.2)\n",
            "Requirement already satisfied: lit in /usr/local/lib/python3.10/dist-packages (from triton==2.0.0->torch->torchtnt>=0.0.5->torcheval) (16.0.6)\n",
            "Requirement already satisfied: cachetools<6.0,>=2.0.0 in /usr/local/lib/python3.10/dist-packages (from google-auth<3,>=1.6.3->tensorboard->torchtnt>=0.0.5->torcheval) (5.3.1)\n",
            "Requirement already satisfied: pyasn1-modules>=0.2.1 in /usr/local/lib/python3.10/dist-packages (from google-auth<3,>=1.6.3->tensorboard->torchtnt>=0.0.5->torcheval) (0.3.0)\n",
            "Requirement already satisfied: six>=1.9.0 in /usr/local/lib/python3.10/dist-packages (from google-auth<3,>=1.6.3->tensorboard->torchtnt>=0.0.5->torcheval) (1.16.0)\n",
            "Requirement already satisfied: rsa<5,>=3.1.4 in /usr/local/lib/python3.10/dist-packages (from google-auth<3,>=1.6.3->tensorboard->torchtnt>=0.0.5->torcheval) (4.9)\n",
            "Requirement already satisfied: requests-oauthlib>=0.7.0 in /usr/local/lib/python3.10/dist-packages (from google-auth-oauthlib<1.1,>=0.5->tensorboard->torchtnt>=0.0.5->torcheval) (1.3.1)\n",
            "Requirement already satisfied: urllib3<1.27,>=1.21.1 in /usr/local/lib/python3.10/dist-packages (from requests<3,>=2.21.0->tensorboard->torchtnt>=0.0.5->torcheval) (1.26.16)\n",
            "Requirement already satisfied: certifi>=2017.4.17 in /usr/local/lib/python3.10/dist-packages (from requests<3,>=2.21.0->tensorboard->torchtnt>=0.0.5->torcheval) (2023.5.7)\n",
            "Requirement already satisfied: charset-normalizer~=2.0.0 in /usr/local/lib/python3.10/dist-packages (from requests<3,>=2.21.0->tensorboard->torchtnt>=0.0.5->torcheval) (2.0.12)\n",
            "Requirement already satisfied: idna<4,>=2.5 in /usr/local/lib/python3.10/dist-packages (from requests<3,>=2.21.0->tensorboard->torchtnt>=0.0.5->torcheval) (3.4)\n",
            "Requirement already satisfied: MarkupSafe>=2.1.1 in /usr/local/lib/python3.10/dist-packages (from werkzeug>=1.0.1->tensorboard->torchtnt>=0.0.5->torcheval) (2.1.3)\n",
            "Requirement already satisfied: mpmath>=0.19 in /usr/local/lib/python3.10/dist-packages (from sympy->torch->torchtnt>=0.0.5->torcheval) (1.3.0)\n",
            "Collecting mypy-extensions>=0.3.0 (from typing-inspect->pyre-extensions->torchtnt>=0.0.5->torcheval)\n",
            "  Downloading mypy_extensions-1.0.0-py3-none-any.whl (4.7 kB)\n",
            "Requirement already satisfied: pyasn1<0.6.0,>=0.4.6 in /usr/local/lib/python3.10/dist-packages (from pyasn1-modules>=0.2.1->google-auth<3,>=1.6.3->tensorboard->torchtnt>=0.0.5->torcheval) (0.5.0)\n",
            "Requirement already satisfied: oauthlib>=3.0.0 in /usr/local/lib/python3.10/dist-packages (from requests-oauthlib>=0.7.0->google-auth-oauthlib<1.1,>=0.5->tensorboard->torchtnt>=0.0.5->torcheval) (3.2.2)\n",
            "Installing collected packages: mypy-extensions, typing-inspect, pyre-extensions, torchtnt, torcheval\n",
            "Successfully installed mypy-extensions-1.0.0 pyre-extensions-0.0.30 torcheval-0.0.6 torchtnt-0.1.0 typing-inspect-0.9.0\n"
          ]
        }
      ]
    },
    {
      "cell_type": "code",
      "source": [
        "import pandas as pd\n",
        "import numpy as np\n",
        "\n",
        "import torch\n",
        "import torch.nn as nn\n",
        "from torcheval.metrics import R2Score\n",
        "\n",
        "from sklearn.model_selection import train_test_split\n",
        "from sklearn.metrics import r2_score"
      ],
      "metadata": {
        "id": "eSVektQujF7A"
      },
      "execution_count": 73,
      "outputs": []
    },
    {
      "cell_type": "code",
      "source": [
        "df = pd.read_csv('df_result_1.csv')"
      ],
      "metadata": {
        "id": "JVkOMLjXjUyy"
      },
      "execution_count": 60,
      "outputs": []
    },
    {
      "cell_type": "code",
      "source": [
        "df = df[df['ZOI_drug_NP'] > 0]"
      ],
      "metadata": {
        "id": "dnL787l9jrnr"
      },
      "execution_count": 61,
      "outputs": []
    },
    {
      "cell_type": "code",
      "source": [
        "df_features = df.drop(['ZOI_drug_NP'], axis=1)\n",
        "df_target = df[['ZOI_drug_NP']]"
      ],
      "metadata": {
        "id": "WmnDgwMjjr2d"
      },
      "execution_count": 62,
      "outputs": []
    },
    {
      "cell_type": "code",
      "source": [
        "X = df_features.values\n",
        "y = np.vstack(df_target.values)\n",
        "\n",
        "X_train, X_test, y_train, y_test = train_test_split(X, y, random_state=42, train_size=0.8)"
      ],
      "metadata": {
        "id": "GEQuGsWekBjI"
      },
      "execution_count": 63,
      "outputs": []
    },
    {
      "cell_type": "code",
      "source": [
        "X_train_tensor = torch.tensor(X_train).float()\n",
        "X_test_tensor = torch.tensor(X_test).float()\n",
        "\n",
        "y_train_tensor = torch.tensor(y_train).float()\n",
        "y_test_tensor = torch.tensor(y_test).float()"
      ],
      "metadata": {
        "id": "aZfAYy7fkKEX"
      },
      "execution_count": 64,
      "outputs": []
    },
    {
      "cell_type": "code",
      "source": [
        "X_train_tensor.size()"
      ],
      "metadata": {
        "colab": {
          "base_uri": "https://localhost:8080/"
        },
        "id": "FtMdpRvHBfjk",
        "outputId": "d50356ef-870b-4f23-fb1b-dc6cbbc58b7d"
      },
      "execution_count": 65,
      "outputs": [
        {
          "output_type": "execute_result",
          "data": {
            "text/plain": [
              "torch.Size([427, 18])"
            ]
          },
          "metadata": {},
          "execution_count": 65
        }
      ]
    },
    {
      "cell_type": "code",
      "source": [
        "model = nn.Sequential(nn.Linear(18, 15),\n",
        "                      nn.ELU(),\n",
        "                      nn.Linear(15, 7),\n",
        "                      nn.ELU(),\n",
        "                      nn.Linear(7, 1))"
      ],
      "metadata": {
        "id": "gPUI9PVtkUMe"
      },
      "execution_count": 83,
      "outputs": []
    },
    {
      "cell_type": "code",
      "source": [
        "state = torch.load('state (1).pt')\n",
        "\n",
        "optimizer = torch.optim.SGD(model.parameters(),lr=1)\n",
        "\n",
        "model.load_state_dict(state['model'])\n",
        "optimizer.load_state_dict(state['optimizer_state'])"
      ],
      "metadata": {
        "id": "e8ExzP3LUYw7"
      },
      "execution_count": 84,
      "outputs": []
    },
    {
      "cell_type": "code",
      "source": [
        "gpu = torch.device(\"cuda:0\" if torch.cuda.is_available() else \"cpu\")\n",
        "cpu = torch.device(\"cpu\")\n",
        "\n",
        "\n",
        "model.to(gpu)\n",
        "\n",
        "X_train_tensor =  X_train_tensor.to(gpu)\n",
        "y_train_tensor =  y_train_tensor.to(gpu)\n",
        "\n",
        "X_test_tensor = X_test_tensor.to(gpu)\n",
        "y_test_tensor = y_test_tensor.to(gpu)"
      ],
      "metadata": {
        "id": "LakJs3ZUkqcZ"
      },
      "execution_count": 85,
      "outputs": []
    },
    {
      "cell_type": "code",
      "source": [
        "loss = nn.MSELoss()\n",
        "\n",
        "# С аргументами оптимизатора тоже надо поиграться, а еще лучше выбрать другой\n",
        "optimizer = torch.optim.SGD(model.parameters(), lr=10e-5, momentum=0.5)\n",
        "#optimizer = torch.optim.Adam(hard_model_3.parameters(), lr=10e-101)"
      ],
      "metadata": {
        "id": "_e66bfLaktvy"
      },
      "execution_count": 80,
      "outputs": []
    },
    {
      "cell_type": "code",
      "source": [
        "def fit(model, X,Y, batch_size=32, train=True):\n",
        "    model.train(train)\n",
        "    sumL, sumA, numB = 0, 0, int( len(X)/batch_size )\n",
        "\n",
        "    for i in range(0, numB*batch_size, batch_size):\n",
        "        xb = X[i: i+batch_size]\n",
        "        yb = Y[i: i+batch_size]\n",
        "\n",
        "        y = model(xb)\n",
        "        L = loss(y, yb)\n",
        "\n",
        "        if train:\n",
        "            optimizer.zero_grad()\n",
        "            L.backward()\n",
        "            optimizer.step()\n",
        "\n",
        "        sumL += L.item()\n",
        "        sumA += (y.round() == yb).float().mean()\n",
        "\n",
        "    return sumL/numB"
      ],
      "metadata": {
        "id": "ILU1iR3hkwgK"
      },
      "execution_count": 86,
      "outputs": []
    },
    {
      "cell_type": "code",
      "source": [
        "epochs = 10000\n",
        "\n",
        "loss_train_lst = []\n",
        "loss_test_lst = []\n",
        "R2Score_lst = []\n",
        "R2Score_test_lst = []\n",
        "\n",
        "metric = R2Score()\n",
        "metric_test = R2Score()\n",
        "\n",
        "\n",
        "print( \"before:      loss: %.4f\" %  fit(model, X_train_tensor, y_train_tensor, train=False) )\n",
        "for epoch in range(epochs):\n",
        "    L = fit(model, X_train_tensor, y_train_tensor)\n",
        "\n",
        "    metric.update(model(X_train_tensor), y_train_tensor)\n",
        "    metric_test.update(model(X_test_tensor), y_test_tensor)\n",
        "\n",
        "    R2 = metric.compute()\n",
        "    R2_test = metric_test.compute()\n",
        "\n",
        "    loss_train_lst.append(L)\n",
        "    loss_test_lst.append(loss(model(X_test_tensor), y_test_tensor).detach())\n",
        "    R2Score_lst.append(R2)\n",
        "    R2Score_test_lst.append(R2_test)\n",
        "\n",
        "    if epoch % 100 == 0 or epoch == 0:\n",
        "      print(f'epoch: {epoch}, RMSE: {np.sqrt(L)}, R2Score: {R2:.4f}, R2Score_test: {R2_test:.4f}')"
      ],
      "metadata": {
        "colab": {
          "base_uri": "https://localhost:8080/",
          "height": 1000
        },
        "id": "Gxf2ZgMdkyH_",
        "outputId": "7f2b917b-3884-4834-8902-e544d57adb3a"
      },
      "execution_count": 87,
      "outputs": [
        {
          "output_type": "stream",
          "name": "stdout",
          "text": [
            "before:      loss: 62.3681\n",
            "epoch: 0, RMSE: 6.951085298386443, R2Score: 0.5514, R2Score_test: 0.7328\n",
            "epoch: 100, RMSE: 5.787629035465716, R2Score: 0.6177, R2Score_test: 0.7389\n",
            "epoch: 200, RMSE: 5.726061578596246, R2Score: 0.6321, R2Score_test: 0.7365\n",
            "epoch: 300, RMSE: 5.614189741354711, R2Score: 0.6398, R2Score_test: 0.7404\n",
            "epoch: 400, RMSE: 5.496093733315522, R2Score: 0.6471, R2Score_test: 0.7464\n",
            "epoch: 500, RMSE: 5.748751871654649, R2Score: 0.6523, R2Score_test: 0.7526\n",
            "epoch: 600, RMSE: 5.551043427685016, R2Score: 0.6563, R2Score_test: 0.7570\n",
            "epoch: 700, RMSE: 5.484590147046587, R2Score: 0.6582, R2Score_test: 0.7593\n",
            "epoch: 800, RMSE: 5.549029003757771, R2Score: 0.6601, R2Score_test: 0.7615\n",
            "epoch: 900, RMSE: 5.89279848298847, R2Score: 0.6618, R2Score_test: 0.7631\n",
            "epoch: 1000, RMSE: 5.466179554256571, R2Score: 0.6635, R2Score_test: 0.7645\n",
            "epoch: 1100, RMSE: 5.548962022945832, R2Score: 0.6651, R2Score_test: 0.7662\n",
            "epoch: 1200, RMSE: 5.56595031765538, R2Score: 0.6666, R2Score_test: 0.7680\n",
            "epoch: 1300, RMSE: 5.554838055307113, R2Score: 0.6674, R2Score_test: 0.7685\n",
            "epoch: 1400, RMSE: 5.653382034255779, R2Score: 0.6683, R2Score_test: 0.7690\n",
            "epoch: 1500, RMSE: 5.416292987627092, R2Score: 0.6693, R2Score_test: 0.7695\n",
            "epoch: 1600, RMSE: 5.374247691098213, R2Score: 0.6704, R2Score_test: 0.7702\n",
            "epoch: 1700, RMSE: 5.409421100156413, R2Score: 0.6712, R2Score_test: 0.7705\n",
            "epoch: 1800, RMSE: 5.369391731393327, R2Score: 0.6725, R2Score_test: 0.7713\n",
            "epoch: 1900, RMSE: 5.407506716115016, R2Score: 0.6736, R2Score_test: 0.7722\n",
            "epoch: 2000, RMSE: 5.367861861599301, R2Score: 0.6743, R2Score_test: 0.7724\n",
            "epoch: 2100, RMSE: 5.377262164901427, R2Score: 0.6749, R2Score_test: 0.7724\n",
            "epoch: 2200, RMSE: 5.3899040735233354, R2Score: 0.6755, R2Score_test: 0.7725\n",
            "epoch: 2300, RMSE: 5.357076623877478, R2Score: 0.6762, R2Score_test: 0.7724\n",
            "epoch: 2400, RMSE: 5.370591066539078, R2Score: 0.6767, R2Score_test: 0.7723\n",
            "epoch: 2500, RMSE: 5.3738255522815965, R2Score: 0.6774, R2Score_test: 0.7718\n",
            "epoch: 2600, RMSE: 5.359424468498919, R2Score: 0.6781, R2Score_test: 0.7716\n",
            "epoch: 2700, RMSE: 5.381966786260643, R2Score: 0.6789, R2Score_test: 0.7716\n",
            "epoch: 2800, RMSE: 5.350780500607753, R2Score: 0.6795, R2Score_test: 0.7716\n",
            "epoch: 2900, RMSE: 5.365270188233895, R2Score: 0.6801, R2Score_test: 0.7718\n",
            "epoch: 3000, RMSE: 5.376887684354335, R2Score: 0.6807, R2Score_test: 0.7719\n",
            "epoch: 3100, RMSE: 5.343555527553402, R2Score: 0.6812, R2Score_test: 0.7721\n",
            "epoch: 3200, RMSE: 5.3757971307301755, R2Score: 0.6818, R2Score_test: 0.7723\n",
            "epoch: 3300, RMSE: 5.375538370811496, R2Score: 0.6823, R2Score_test: 0.7726\n",
            "epoch: 3400, RMSE: 5.351796827374787, R2Score: 0.6827, R2Score_test: 0.7730\n",
            "epoch: 3500, RMSE: 5.356356824702096, R2Score: 0.6832, R2Score_test: 0.7734\n",
            "epoch: 3600, RMSE: 5.355500673246973, R2Score: 0.6836, R2Score_test: 0.7738\n",
            "epoch: 3700, RMSE: 5.370460480177524, R2Score: 0.6840, R2Score_test: 0.7742\n",
            "epoch: 3800, RMSE: 5.36231784480401, R2Score: 0.6843, R2Score_test: 0.7744\n",
            "epoch: 3900, RMSE: 5.32842919642793, R2Score: 0.6847, R2Score_test: 0.7747\n",
            "epoch: 4000, RMSE: 5.340423241714916, R2Score: 0.6850, R2Score_test: 0.7750\n",
            "epoch: 4100, RMSE: 5.345498633331056, R2Score: 0.6854, R2Score_test: 0.7753\n",
            "epoch: 4200, RMSE: 5.344724349247028, R2Score: 0.6857, R2Score_test: 0.7755\n",
            "epoch: 4300, RMSE: 5.338696395225384, R2Score: 0.6860, R2Score_test: 0.7757\n",
            "epoch: 4400, RMSE: 5.337372172918749, R2Score: 0.6863, R2Score_test: 0.7758\n",
            "epoch: 4500, RMSE: 5.336608535190218, R2Score: 0.6866, R2Score_test: 0.7760\n",
            "epoch: 4600, RMSE: 5.339194593360385, R2Score: 0.6868, R2Score_test: 0.7761\n",
            "epoch: 4700, RMSE: 5.346781009615775, R2Score: 0.6871, R2Score_test: 0.7762\n",
            "epoch: 4800, RMSE: 5.3373856115960425, R2Score: 0.6874, R2Score_test: 0.7763\n",
            "epoch: 4900, RMSE: 5.331899788042855, R2Score: 0.6876, R2Score_test: 0.7764\n",
            "epoch: 5000, RMSE: 5.331754890647165, R2Score: 0.6878, R2Score_test: 0.7764\n",
            "epoch: 5100, RMSE: 5.38196710998794, R2Score: 0.6881, R2Score_test: 0.7764\n",
            "epoch: 5200, RMSE: 5.337462841242009, R2Score: 0.6883, R2Score_test: 0.7764\n",
            "epoch: 5300, RMSE: 5.3342670722162415, R2Score: 0.6884, R2Score_test: 0.7764\n",
            "epoch: 5400, RMSE: 5.321557780315639, R2Score: 0.6886, R2Score_test: 0.7762\n",
            "epoch: 5500, RMSE: 5.341569638451585, R2Score: 0.6887, R2Score_test: 0.7761\n",
            "epoch: 5600, RMSE: 5.327966806036934, R2Score: 0.6889, R2Score_test: 0.7760\n",
            "epoch: 5700, RMSE: 5.33225650607135, R2Score: 0.6890, R2Score_test: 0.7759\n",
            "epoch: 5800, RMSE: 5.335144365535633, R2Score: 0.6891, R2Score_test: 0.7759\n",
            "epoch: 5900, RMSE: 5.36386935606412, R2Score: 0.6892, R2Score_test: 0.7758\n",
            "epoch: 6000, RMSE: 5.36677076220844, R2Score: 0.6893, R2Score_test: 0.7758\n",
            "epoch: 6100, RMSE: 5.3408520829311605, R2Score: 0.6895, R2Score_test: 0.7758\n",
            "epoch: 6200, RMSE: 5.354821912246396, R2Score: 0.6897, R2Score_test: 0.7757\n",
            "epoch: 6300, RMSE: 5.341378331326824, R2Score: 0.6898, R2Score_test: 0.7755\n",
            "epoch: 6400, RMSE: 5.3324333411211935, R2Score: 0.6900, R2Score_test: 0.7754\n",
            "epoch: 6500, RMSE: 5.33227053546316, R2Score: 0.6902, R2Score_test: 0.7752\n",
            "epoch: 6600, RMSE: 5.3262003101344035, R2Score: 0.6904, R2Score_test: 0.7750\n",
            "epoch: 6700, RMSE: 5.3322549996034505, R2Score: 0.6906, R2Score_test: 0.7748\n",
            "epoch: 6800, RMSE: 5.32502262486769, R2Score: 0.6908, R2Score_test: 0.7746\n",
            "epoch: 6900, RMSE: 5.3319151632742905, R2Score: 0.6910, R2Score_test: 0.7743\n",
            "epoch: 7000, RMSE: 5.3228691746319, R2Score: 0.6912, R2Score_test: 0.7741\n",
            "epoch: 7100, RMSE: 5.321633337309639, R2Score: 0.6914, R2Score_test: 0.7739\n",
            "epoch: 7200, RMSE: 5.326584069742259, R2Score: 0.6916, R2Score_test: 0.7737\n",
            "epoch: 7300, RMSE: 5.321916294303843, R2Score: 0.6918, R2Score_test: 0.7735\n",
            "epoch: 7400, RMSE: 5.312405187528868, R2Score: 0.6919, R2Score_test: 0.7733\n",
            "epoch: 7500, RMSE: 5.318876763262222, R2Score: 0.6921, R2Score_test: 0.7730\n"
          ]
        },
        {
          "output_type": "error",
          "ename": "KeyboardInterrupt",
          "evalue": "ignored",
          "traceback": [
            "\u001b[0;31m---------------------------------------------------------------------------\u001b[0m",
            "\u001b[0;31mKeyboardInterrupt\u001b[0m                         Traceback (most recent call last)",
            "\u001b[0;32m<ipython-input-87-4eac1fa39aac>\u001b[0m in \u001b[0;36m<cell line: 13>\u001b[0;34m()\u001b[0m\n\u001b[1;32m     12\u001b[0m \u001b[0mprint\u001b[0m\u001b[0;34m(\u001b[0m \u001b[0;34m\"before:      loss: %.4f\"\u001b[0m \u001b[0;34m%\u001b[0m  \u001b[0mfit\u001b[0m\u001b[0;34m(\u001b[0m\u001b[0mmodel\u001b[0m\u001b[0;34m,\u001b[0m \u001b[0mX_train_tensor\u001b[0m\u001b[0;34m,\u001b[0m \u001b[0my_train_tensor\u001b[0m\u001b[0;34m,\u001b[0m \u001b[0mtrain\u001b[0m\u001b[0;34m=\u001b[0m\u001b[0;32mFalse\u001b[0m\u001b[0;34m)\u001b[0m \u001b[0;34m)\u001b[0m\u001b[0;34m\u001b[0m\u001b[0;34m\u001b[0m\u001b[0m\n\u001b[1;32m     13\u001b[0m \u001b[0;32mfor\u001b[0m \u001b[0mepoch\u001b[0m \u001b[0;32min\u001b[0m \u001b[0mrange\u001b[0m\u001b[0;34m(\u001b[0m\u001b[0mepochs\u001b[0m\u001b[0;34m)\u001b[0m\u001b[0;34m:\u001b[0m\u001b[0;34m\u001b[0m\u001b[0;34m\u001b[0m\u001b[0m\n\u001b[0;32m---> 14\u001b[0;31m     \u001b[0mL\u001b[0m \u001b[0;34m=\u001b[0m \u001b[0mfit\u001b[0m\u001b[0;34m(\u001b[0m\u001b[0mmodel\u001b[0m\u001b[0;34m,\u001b[0m \u001b[0mX_train_tensor\u001b[0m\u001b[0;34m,\u001b[0m \u001b[0my_train_tensor\u001b[0m\u001b[0;34m)\u001b[0m\u001b[0;34m\u001b[0m\u001b[0;34m\u001b[0m\u001b[0m\n\u001b[0m\u001b[1;32m     15\u001b[0m \u001b[0;34m\u001b[0m\u001b[0m\n\u001b[1;32m     16\u001b[0m     \u001b[0mmetric\u001b[0m\u001b[0;34m.\u001b[0m\u001b[0mupdate\u001b[0m\u001b[0;34m(\u001b[0m\u001b[0mmodel\u001b[0m\u001b[0;34m(\u001b[0m\u001b[0mX_train_tensor\u001b[0m\u001b[0;34m)\u001b[0m\u001b[0;34m,\u001b[0m \u001b[0my_train_tensor\u001b[0m\u001b[0;34m)\u001b[0m\u001b[0;34m\u001b[0m\u001b[0;34m\u001b[0m\u001b[0m\n",
            "\u001b[0;32m<ipython-input-86-2c021eae0ff1>\u001b[0m in \u001b[0;36mfit\u001b[0;34m(model, X, Y, batch_size, train)\u001b[0m\n\u001b[1;32m      8\u001b[0m \u001b[0;34m\u001b[0m\u001b[0m\n\u001b[1;32m      9\u001b[0m         \u001b[0my\u001b[0m \u001b[0;34m=\u001b[0m \u001b[0mmodel\u001b[0m\u001b[0;34m(\u001b[0m\u001b[0mxb\u001b[0m\u001b[0;34m)\u001b[0m\u001b[0;34m\u001b[0m\u001b[0;34m\u001b[0m\u001b[0m\n\u001b[0;32m---> 10\u001b[0;31m         \u001b[0mL\u001b[0m \u001b[0;34m=\u001b[0m \u001b[0mloss\u001b[0m\u001b[0;34m(\u001b[0m\u001b[0my\u001b[0m\u001b[0;34m,\u001b[0m \u001b[0myb\u001b[0m\u001b[0;34m)\u001b[0m\u001b[0;34m\u001b[0m\u001b[0;34m\u001b[0m\u001b[0m\n\u001b[0m\u001b[1;32m     11\u001b[0m \u001b[0;34m\u001b[0m\u001b[0m\n\u001b[1;32m     12\u001b[0m         \u001b[0;32mif\u001b[0m \u001b[0mtrain\u001b[0m\u001b[0;34m:\u001b[0m\u001b[0;34m\u001b[0m\u001b[0;34m\u001b[0m\u001b[0m\n",
            "\u001b[0;32m/usr/local/lib/python3.10/dist-packages/torch/nn/modules/module.py\u001b[0m in \u001b[0;36m_call_impl\u001b[0;34m(self, *args, **kwargs)\u001b[0m\n\u001b[1;32m   1499\u001b[0m                 \u001b[0;32mor\u001b[0m \u001b[0m_global_backward_pre_hooks\u001b[0m \u001b[0;32mor\u001b[0m \u001b[0m_global_backward_hooks\u001b[0m\u001b[0;34m\u001b[0m\u001b[0;34m\u001b[0m\u001b[0m\n\u001b[1;32m   1500\u001b[0m                 or _global_forward_hooks or _global_forward_pre_hooks):\n\u001b[0;32m-> 1501\u001b[0;31m             \u001b[0;32mreturn\u001b[0m \u001b[0mforward_call\u001b[0m\u001b[0;34m(\u001b[0m\u001b[0;34m*\u001b[0m\u001b[0margs\u001b[0m\u001b[0;34m,\u001b[0m \u001b[0;34m**\u001b[0m\u001b[0mkwargs\u001b[0m\u001b[0;34m)\u001b[0m\u001b[0;34m\u001b[0m\u001b[0;34m\u001b[0m\u001b[0m\n\u001b[0m\u001b[1;32m   1502\u001b[0m         \u001b[0;31m# Do not call functions when jit is used\u001b[0m\u001b[0;34m\u001b[0m\u001b[0;34m\u001b[0m\u001b[0m\n\u001b[1;32m   1503\u001b[0m         \u001b[0mfull_backward_hooks\u001b[0m\u001b[0;34m,\u001b[0m \u001b[0mnon_full_backward_hooks\u001b[0m \u001b[0;34m=\u001b[0m \u001b[0;34m[\u001b[0m\u001b[0;34m]\u001b[0m\u001b[0;34m,\u001b[0m \u001b[0;34m[\u001b[0m\u001b[0;34m]\u001b[0m\u001b[0;34m\u001b[0m\u001b[0;34m\u001b[0m\u001b[0m\n",
            "\u001b[0;32m/usr/local/lib/python3.10/dist-packages/torch/nn/modules/loss.py\u001b[0m in \u001b[0;36mforward\u001b[0;34m(self, input, target)\u001b[0m\n\u001b[1;32m    534\u001b[0m \u001b[0;34m\u001b[0m\u001b[0m\n\u001b[1;32m    535\u001b[0m     \u001b[0;32mdef\u001b[0m \u001b[0mforward\u001b[0m\u001b[0;34m(\u001b[0m\u001b[0mself\u001b[0m\u001b[0;34m,\u001b[0m \u001b[0minput\u001b[0m\u001b[0;34m:\u001b[0m \u001b[0mTensor\u001b[0m\u001b[0;34m,\u001b[0m \u001b[0mtarget\u001b[0m\u001b[0;34m:\u001b[0m \u001b[0mTensor\u001b[0m\u001b[0;34m)\u001b[0m \u001b[0;34m->\u001b[0m \u001b[0mTensor\u001b[0m\u001b[0;34m:\u001b[0m\u001b[0;34m\u001b[0m\u001b[0;34m\u001b[0m\u001b[0m\n\u001b[0;32m--> 536\u001b[0;31m         \u001b[0;32mreturn\u001b[0m \u001b[0mF\u001b[0m\u001b[0;34m.\u001b[0m\u001b[0mmse_loss\u001b[0m\u001b[0;34m(\u001b[0m\u001b[0minput\u001b[0m\u001b[0;34m,\u001b[0m \u001b[0mtarget\u001b[0m\u001b[0;34m,\u001b[0m \u001b[0mreduction\u001b[0m\u001b[0;34m=\u001b[0m\u001b[0mself\u001b[0m\u001b[0;34m.\u001b[0m\u001b[0mreduction\u001b[0m\u001b[0;34m)\u001b[0m\u001b[0;34m\u001b[0m\u001b[0;34m\u001b[0m\u001b[0m\n\u001b[0m\u001b[1;32m    537\u001b[0m \u001b[0;34m\u001b[0m\u001b[0m\n\u001b[1;32m    538\u001b[0m \u001b[0;34m\u001b[0m\u001b[0m\n",
            "\u001b[0;32m/usr/local/lib/python3.10/dist-packages/torch/nn/functional.py\u001b[0m in \u001b[0;36mmse_loss\u001b[0;34m(input, target, size_average, reduce, reduction)\u001b[0m\n\u001b[1;32m   3293\u001b[0m \u001b[0;34m\u001b[0m\u001b[0m\n\u001b[1;32m   3294\u001b[0m     \u001b[0mexpanded_input\u001b[0m\u001b[0;34m,\u001b[0m \u001b[0mexpanded_target\u001b[0m \u001b[0;34m=\u001b[0m \u001b[0mtorch\u001b[0m\u001b[0;34m.\u001b[0m\u001b[0mbroadcast_tensors\u001b[0m\u001b[0;34m(\u001b[0m\u001b[0minput\u001b[0m\u001b[0;34m,\u001b[0m \u001b[0mtarget\u001b[0m\u001b[0;34m)\u001b[0m\u001b[0;34m\u001b[0m\u001b[0;34m\u001b[0m\u001b[0m\n\u001b[0;32m-> 3295\u001b[0;31m     \u001b[0;32mreturn\u001b[0m \u001b[0mtorch\u001b[0m\u001b[0;34m.\u001b[0m\u001b[0m_C\u001b[0m\u001b[0;34m.\u001b[0m\u001b[0m_nn\u001b[0m\u001b[0;34m.\u001b[0m\u001b[0mmse_loss\u001b[0m\u001b[0;34m(\u001b[0m\u001b[0mexpanded_input\u001b[0m\u001b[0;34m,\u001b[0m \u001b[0mexpanded_target\u001b[0m\u001b[0;34m,\u001b[0m \u001b[0m_Reduction\u001b[0m\u001b[0;34m.\u001b[0m\u001b[0mget_enum\u001b[0m\u001b[0;34m(\u001b[0m\u001b[0mreduction\u001b[0m\u001b[0;34m)\u001b[0m\u001b[0;34m)\u001b[0m\u001b[0;34m\u001b[0m\u001b[0;34m\u001b[0m\u001b[0m\n\u001b[0m\u001b[1;32m   3296\u001b[0m \u001b[0;34m\u001b[0m\u001b[0m\n\u001b[1;32m   3297\u001b[0m \u001b[0;34m\u001b[0m\u001b[0m\n",
            "\u001b[0;31mKeyboardInterrupt\u001b[0m: "
          ]
        }
      ]
    },
    {
      "cell_type": "code",
      "source": [
        "plt.scatter(y_test_tensor.detach(), model(X_test_tensor).detach())\n",
        "\n",
        "plt.xlabel('Actual_target')\n",
        "plt.ylabel('Predict_target')"
      ],
      "metadata": {
        "colab": {
          "base_uri": "https://localhost:8080/",
          "height": 467
        },
        "id": "KYfIBAsTsRIX",
        "outputId": "dbd0ec3c-7169-4e6f-feb9-941c3208346b"
      },
      "execution_count": 92,
      "outputs": [
        {
          "output_type": "execute_result",
          "data": {
            "text/plain": [
              "Text(0, 0.5, 'Predict_target')"
            ]
          },
          "metadata": {},
          "execution_count": 92
        },
        {
          "output_type": "display_data",
          "data": {
            "text/plain": [
              "<Figure size 640x480 with 1 Axes>"
            ],
            "image/png": "[encoded data removed]"
          },
          "metadata": {}
        }
      ]
    },
    {
      "cell_type": "code",
      "source": [],
      "metadata": {
        "id": "R9Pp0Re58xfY"
      },
      "execution_count": null,
      "outputs": []
    }
  ]
}